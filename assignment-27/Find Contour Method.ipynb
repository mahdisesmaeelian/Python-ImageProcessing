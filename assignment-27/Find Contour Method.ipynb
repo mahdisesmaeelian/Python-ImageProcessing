{
 "cells": [
  {
   "cell_type": "code",
   "execution_count": 188,
   "id": "23985123-2d42-445a-88d5-84ba4c92cce3",
   "metadata": {},
   "outputs": [],
   "source": [
    "import cv2\n",
    "import matplotlib.pyplot as plt"
   ]
  },
  {
   "cell_type": "code",
   "execution_count": 189,
   "id": "83a2e5f8-628c-4488-be05-e3ff41584dba",
   "metadata": {},
   "outputs": [
    {
     "data": {
      "text/plain": [
       "<matplotlib.image.AxesImage at 0x2568fef0190>"
      ]
     },
     "execution_count": 189,
     "metadata": {},
     "output_type": "execute_result"
    },
    {
     "data": {
      "image/png": "[encoded data removed]",
      "text/plain": [
       "<Figure size 432x288 with 1 Axes>"
      ]
     },
     "metadata": {
      "needs_background": "light"
     },
     "output_type": "display_data"
    }
   ],
   "source": [
    "image = cv2.imread('Input/12.png' , cv2.IMREAD_GRAYSCALE)\n",
    "\n",
    "_ , image = cv2.threshold(image , 127 , 255 , cv2.THRESH_BINARY)\n",
    "\n",
    "plt.imshow(image, cmap = \"gray\")"
   ]
  },
  {
   "cell_type": "code",
   "execution_count": 190,
   "id": "5af35fca-6138-40b3-ab58-05e0a30f962d",
   "metadata": {},
   "outputs": [
    {
     "name": "stdout",
     "output_type": "stream",
     "text": [
      "103\n",
      "51\n",
      "[143, 142]\n",
      "[242, 241]\n"
     ]
    }
   ],
   "source": [
    "rows, cols = image.shape\n",
    "\n",
    "def first_white_pixle():\n",
    "    for i in range(rows):\n",
    "        for j in range(cols):\n",
    "            if image[i,j] != 0:     \n",
    "                return i,j\n",
    "\n",
    "x1 , y1 = first_white_pixle()\n",
    "\n",
    "list_whitepixle_rows_down = []\n",
    "list_whitepixle_cols_right = []\n",
    "list_whitepixle_rows_up = []\n",
    "list_whitepixle_cols_left = []\n",
    "\n",
    "for i in range(x1,rows):\n",
    "    list_whitepixle_rows_down.append(i)\n",
    "    if image[i,y1] <= 200:\n",
    "        break\n",
    "        \n",
    "for i in range(y1,cols):\n",
    "    list_whitepixle_cols_right.append(i)\n",
    "    if image[x1,i] <= 200:\n",
    "        break\n",
    "\n",
    "for i in range(x1,0,-1):\n",
    "    list_whitepixle_rows_up.append(i)\n",
    "    if image[i,y1] <= 200:\n",
    "        break\n",
    "        \n",
    "for i in range(y1,0,-1):\n",
    "    list_whitepixle_cols_left.append(i)\n",
    "    if image[x1,i] <= 200:\n",
    "        break\n",
    "\n",
    "print(len(list_whitepixle_rows_down))\n",
    "print(len(list_whitepixle_cols_right))\n",
    "print(list_whitepixle_rows_up)\n",
    "print(list_whitepixle_cols_left)"
   ]
  },
  {
   "cell_type": "code",
   "execution_count": 191,
   "id": "2951620f-4aa2-4022-906b-d502a5fa8a81",
   "metadata": {},
   "outputs": [
    {
     "name": "stdout",
     "output_type": "stream",
     "text": [
      "143 387 242 535\n"
     ]
    }
   ],
   "source": [
    "print(x1,rows,y1,cols)"
   ]
  },
  {
   "cell_type": "code",
   "execution_count": 192,
   "id": "ae642247-81c1-4d75-a067-537d60e34a37",
   "metadata": {},
   "outputs": [
    {
     "name": "stdout",
     "output_type": "stream",
     "text": [
      "143 242 245 292\n"
     ]
    },
    {
     "data": {
      "text/plain": [
       "<matplotlib.image.AxesImage at 0x2568ff68250>"
      ]
     },
     "execution_count": 192,
     "metadata": {},
     "output_type": "execute_result"
    },
    {
     "data": {
      "image/png": "[encoded data removed]",
      "text/plain": [
       "<Figure size 432x288 with 1 Axes>"
      ]
     },
     "metadata": {
      "needs_background": "light"
     },
     "output_type": "display_data"
    }
   ],
   "source": [
    "x = list_whitepixle_rows_up[0]\n",
    "y = list_whitepixle_cols_left[0]\n",
    "w = list_whitepixle_rows_down[102]\n",
    "h = list_whitepixle_cols_right[50]\n",
    "print (x , y , w , h)\n",
    "cv2.rectangle(image, (y,x) , (h,w), (127,127,127), 4)\n",
    "plt.imshow(image, cmap = \"gray\")"
   ]
  }
 ],
 "metadata": {
  "kernelspec": {
   "display_name": "Python 3 (ipykernel)",
   "language": "python",
   "name": "python3"
  },
  "language_info": {
   "codemirror_mode": {
    "name": "ipython",
    "version": 3
   },
   "file_extension": ".py",
   "mimetype": "text/x-python",
   "name": "python",
   "nbconvert_exporter": "python",
   "pygments_lexer": "ipython3",
   "version": "3.9.0"
  }
 },
 "nbformat": 4,
 "nbformat_minor": 5
}
