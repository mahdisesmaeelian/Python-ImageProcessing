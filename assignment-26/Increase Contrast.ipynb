import cv2

image = cv2.imread('input/1.png')
image = cv2.cvtColor(image,cv2.COLOR_BGR2GRAY)

alpha = 1
beta = -100

adjusted = cv2.convertScaleAbs(image, alpha=alpha, beta=beta)

cv2.imshow('original', image)
cv2.imshow('adjusted', adjusted)
cv2.waitKey()
