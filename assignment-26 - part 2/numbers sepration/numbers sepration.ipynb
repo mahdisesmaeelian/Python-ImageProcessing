{
 "cells": [
  {
   "cell_type": "code",
   "execution_count": 14,
   "id": "2360fbea-e355-4299-87d3-9f2e5d5ada42",
   "metadata": {},
   "outputs": [],
   "source": [
    "import numpy as np\n",
    "import cv2\n",
    "import matplotlib.pyplot as plt"
   ]
  },
  {
   "cell_type": "code",
   "execution_count": 15,
   "id": "e8a5738d-6ca1-4ecf-ba59-0c3cc8dc09d0",
   "metadata": {},
   "outputs": [],
   "source": [
    "image = cv2.imread('input/mnist.png')\n",
    "image = cv2.cvtColor(image,cv2.COLOR_BGR2GRAY)"
   ]
  },
  {
   "cell_type": "code",
   "execution_count": 17,
   "id": "c9caa432-21ef-4512-b3ae-74a1764feafe",
   "metadata": {},
   "outputs": [],
   "source": [
    "width, height = image.shape\n",
    "width_cell = width // 50\n",
    "height_cell = height // 100"
   ]
  },
  {
   "cell_type": "code",
   "execution_count": 18,
   "id": "407d5143-08b6-412c-8a73-a528efa19cf4",
   "metadata": {},
   "outputs": [],
   "source": [
    "counter = 0\n",
    "\n",
    "for i in range(0, width, width_cell):\n",
    "    for j in range(0, height, height_cell):\n",
    "            single_cell = image[i:i+width_cell, j:j+height_cell]\n",
    "            if single_cell.shape == (width_cell, height_cell):\n",
    "                cv2.imwrite(f\"output/cell{counter}.jpg\",single_cell)\n",
    "                counter += 1"
   ]
  }
 ],
 "metadata": {
  "kernelspec": {
   "display_name": "Python 3 (ipykernel)",
   "language": "python",
   "name": "python3"
  },
  "language_info": {
   "codemirror_mode": {
    "name": "ipython",
    "version": 3
   },
   "file_extension": ".py",
   "mimetype": "text/x-python",
   "name": "python",
   "nbconvert_exporter": "python",
   "pygments_lexer": "ipython3",
   "version": "3.9.0"
  }
 },
 "nbformat": 4,
 "nbformat_minor": 5
}
